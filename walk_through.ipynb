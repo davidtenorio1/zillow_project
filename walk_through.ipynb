{
 "cells": [
  {
   "cell_type": "markdown",
   "metadata": {},
   "source": [
    "# Zillow Project Walk Through"
   ]
  },
  {
   "cell_type": "markdown",
   "metadata": {},
   "source": [
    "# Goal"
   ]
  },
  {
   "cell_type": "markdown",
   "metadata": {},
   "source": [
    "### We want to be able to predict the values of single unit properties that the tax district assesses using the property data from those whose last transaction was during the \"hot months\" (in terms of real estate demand) of May and June in 2017"
   ]
  },
  {
   "cell_type": "markdown",
   "metadata": {},
   "source": [
    "# Set up Environment"
   ]
  },
  {
   "cell_type": "code",
   "execution_count": 1,
   "metadata": {},
   "outputs": [],
   "source": [
    "# Bring in standard libraries\n",
    "import pandas as pd\n",
    "import numpy as np\n",
    "import matplotlib as plt\n",
    "import seaborn as sns\n",
    "sns.set_style('whitegrid')\n",
    "from scipy import stats\n",
    "from statsmodels.formula.api import ols\n",
    "from sklearn.linear_model import LinearRegression\n",
    "from sklearn.metrics import mean_squared_error, r2_score, explained_variance_score\n",
    "from sklearn.feature_selection import f_regression \n",
    "from math import sqrt\n",
    "import warnings\n",
    "warnings.filterwarnings(\"ignore\")\n",
    "\n",
    "# Import sql database credentials and python files that contain functions we will use\n",
    "import tax_rate_distributions\n",
    "import split_scale\n",
    "import function\n",
    "import evaluate\n",
    "import env\n",
    "from env import user, password, host\n"
   ]
  },
  {
   "cell_type": "markdown",
   "metadata": {},
   "source": [
    "# Acquisition"
   ]
  },
  {
   "cell_type": "markdown",
   "metadata": {},
   "source": [
    "Our data comes from the Zillow database on the SQL server. We filter out unnecessary data first and then read in the relevant data.\n",
    "\n",
    "Due to a short turn around time, we will only be focusing on a handful of fields: bedroom count, bathroom count, and finished sqaure footage. Given more time, we can incorporate more fields and increase the accuracy of our model."
   ]
  },
  {
   "cell_type": "code",
   "execution_count": 2,
   "metadata": {},
   "outputs": [],
   "source": [
    "# Create variable to access zillow database\n",
    "url = f'mysql+pymysql://{user}:{password}@{host}/zillow'\n",
    "# Read in sql database to python. Sort out properties that do not meet criteria\n",
    "data = pd.read_sql('''select id, calculatedfinishedsquarefeet, bedroomcnt, bathroomcnt, taxvaluedollarcnt from properties_2017\n",
    "join predictions_2017 using (id)\n",
    "join propertylandusetype using (propertylandusetypeid)\n",
    "where transactiondate between \"2017-05-01\" and \"2017-06-30\"\n",
    "and propertylandusetypeid not in (\"31\", \"47\", \"246\", \"247\", \"248\",\"264\", \"265\", \"266\",\"267\", \"269\", \"270\" )\n",
    "and calculatedfinishedsquarefeet * bathroomcnt * bedroomcnt != 0\n",
    "and taxvaluedollarcnt != 0''',url)\n",
    "# Set index to data id to be able to identify each individual property\n",
    "data = data.set_index(data.id)"
   ]
  },
  {
   "cell_type": "markdown",
   "metadata": {},
   "source": [
    "Here we take a peak at the data. We have 16,023 properties with a mean tax value of $ 464,270."
   ]
  },
  {
   "cell_type": "code",
   "execution_count": 3,
   "metadata": {},
   "outputs": [
    {
     "data": {
      "text/html": [
       "<div>\n",
       "<style scoped>\n",
       "    .dataframe tbody tr th:only-of-type {\n",
       "        vertical-align: middle;\n",
       "    }\n",
       "\n",
       "    .dataframe tbody tr th {\n",
       "        vertical-align: top;\n",
       "    }\n",
       "\n",
       "    .dataframe thead th {\n",
       "        text-align: right;\n",
       "    }\n",
       "</style>\n",
       "<table border=\"1\" class=\"dataframe\">\n",
       "  <thead>\n",
       "    <tr style=\"text-align: right;\">\n",
       "      <th></th>\n",
       "      <th>id</th>\n",
       "      <th>calculatedfinishedsquarefeet</th>\n",
       "      <th>bedroomcnt</th>\n",
       "      <th>bathroomcnt</th>\n",
       "      <th>taxvaluedollarcnt</th>\n",
       "    </tr>\n",
       "    <tr>\n",
       "      <th>id</th>\n",
       "      <th></th>\n",
       "      <th></th>\n",
       "      <th></th>\n",
       "      <th></th>\n",
       "      <th></th>\n",
       "    </tr>\n",
       "  </thead>\n",
       "  <tbody>\n",
       "    <tr>\n",
       "      <th>1772</th>\n",
       "      <td>1772</td>\n",
       "      <td>1604.0</td>\n",
       "      <td>4.0</td>\n",
       "      <td>2.0</td>\n",
       "      <td>498347.0</td>\n",
       "    </tr>\n",
       "    <tr>\n",
       "      <th>2028</th>\n",
       "      <td>2028</td>\n",
       "      <td>2384.0</td>\n",
       "      <td>3.0</td>\n",
       "      <td>3.0</td>\n",
       "      <td>549917.0</td>\n",
       "    </tr>\n",
       "    <tr>\n",
       "      <th>3273</th>\n",
       "      <td>3273</td>\n",
       "      <td>1574.0</td>\n",
       "      <td>3.0</td>\n",
       "      <td>2.0</td>\n",
       "      <td>235272.0</td>\n",
       "    </tr>\n",
       "    <tr>\n",
       "      <th>3429</th>\n",
       "      <td>3429</td>\n",
       "      <td>1619.0</td>\n",
       "      <td>2.0</td>\n",
       "      <td>2.0</td>\n",
       "      <td>340000.0</td>\n",
       "    </tr>\n",
       "    <tr>\n",
       "      <th>4505</th>\n",
       "      <td>4505</td>\n",
       "      <td>2408.0</td>\n",
       "      <td>2.0</td>\n",
       "      <td>3.0</td>\n",
       "      <td>2017254.0</td>\n",
       "    </tr>\n",
       "  </tbody>\n",
       "</table>\n",
       "</div>"
      ],
      "text/plain": [
       "        id  calculatedfinishedsquarefeet  bedroomcnt  bathroomcnt  \\\n",
       "id                                                                  \n",
       "1772  1772                        1604.0         4.0          2.0   \n",
       "2028  2028                        2384.0         3.0          3.0   \n",
       "3273  3273                        1574.0         3.0          2.0   \n",
       "3429  3429                        1619.0         2.0          2.0   \n",
       "4505  4505                        2408.0         2.0          3.0   \n",
       "\n",
       "      taxvaluedollarcnt  \n",
       "id                       \n",
       "1772           498347.0  \n",
       "2028           549917.0  \n",
       "3273           235272.0  \n",
       "3429           340000.0  \n",
       "4505          2017254.0  "
      ]
     },
     "execution_count": 3,
     "metadata": {},
     "output_type": "execute_result"
    }
   ],
   "source": [
    "data.head()"
   ]
  },
  {
   "cell_type": "markdown",
   "metadata": {},
   "source": [
    "A quick pair plot to see the relationship between all fields"
   ]
  },
  {
   "cell_type": "code",
   "execution_count": 4,
   "metadata": {},
   "outputs": [
    {
     "data": {
      "text/plain": [
       "<seaborn.axisgrid.PairGrid at 0x1a1ec1ed68>"
      ]
     },
     "execution_count": 4,
     "metadata": {},
     "output_type": "execute_result"
    },
    {
     "data": {
      "image/png": "[encoded data removed]",
      "text/plain": [
       "<Figure size 900x900 with 30 Axes>"
      ]
     },
     "metadata": {
      "needs_background": "light"
     },
     "output_type": "display_data"
    }
   ],
   "source": [
    "sns.pairplot(data=data)"
   ]
  },
  {
   "cell_type": "markdown",
   "metadata": {},
   "source": [
    "## Additional Info"
   ]
  },
  {
   "cell_type": "markdown",
   "metadata": {},
   "source": [
    "Before we get started exploring our data to create a model, we would like to know a couple of things:"
   ]
  },
  {
   "cell_type": "markdown",
   "metadata": {},
   "source": [
    "- We would like to know what states and counties these properties are located in."
   ]
  },
  {
   "cell_type": "markdown",
   "metadata": {},
   "source": [
    "Our data contains a column called fips which contains the Federal Information Processing Standard Publication county codes."
   ]
  },
  {
   "cell_type": "code",
   "execution_count": 6,
   "metadata": {},
   "outputs": [
    {
     "data": {
      "text/html": [
       "<div>\n",
       "<style scoped>\n",
       "    .dataframe tbody tr th:only-of-type {\n",
       "        vertical-align: middle;\n",
       "    }\n",
       "\n",
       "    .dataframe tbody tr th {\n",
       "        vertical-align: top;\n",
       "    }\n",
       "\n",
       "    .dataframe thead th {\n",
       "        text-align: right;\n",
       "    }\n",
       "</style>\n",
       "<table border=\"1\" class=\"dataframe\">\n",
       "  <thead>\n",
       "    <tr style=\"text-align: right;\">\n",
       "      <th></th>\n",
       "      <th>fips</th>\n",
       "    </tr>\n",
       "  </thead>\n",
       "  <tbody>\n",
       "    <tr>\n",
       "      <th>0</th>\n",
       "      <td>6111.0</td>\n",
       "    </tr>\n",
       "    <tr>\n",
       "      <th>1</th>\n",
       "      <td>6037.0</td>\n",
       "    </tr>\n",
       "    <tr>\n",
       "      <th>2</th>\n",
       "      <td>6059.0</td>\n",
       "    </tr>\n",
       "  </tbody>\n",
       "</table>\n",
       "</div>"
      ],
      "text/plain": [
       "     fips\n",
       "0  6111.0\n",
       "1  6037.0\n",
       "2  6059.0"
      ]
     },
     "execution_count": 6,
     "metadata": {},
     "output_type": "execute_result"
    }
   ],
   "source": [
    "# Distinct fips county codes\n",
    "county_codes = pd.read_sql('''select distinct fips from properties_2017\n",
    "join predictions_2017 using (id)\n",
    "join propertylandusetype using (propertylandusetypeid)\n",
    "where transactiondate between \"2017-05-01\" and \"2017-06-30\"\n",
    "and propertylandusetypeid not in (\"31\", \"47\", \"246\", \"247\", \"248\",\"264\", \"265\", \"266\",\"267\", \"269\", \"270\" )\n",
    "and taxdelinquencyflag is null''',url)\n",
    "county_codes.head()"
   ]
  },
  {
   "cell_type": "markdown",
   "metadata": {},
   "source": [
    "Fips codes are 5 digits while ours are only 4 digit. The leading zero is missing from our data. Once we add the leading zero, we can look up the values on this website: https://www.nrcs.usda.gov/wps/portal/nrcs/detail/national/home/?cid=nrcs143_013697"
   ]
  },
  {
   "cell_type": "markdown",
   "metadata": {},
   "source": [
    "06111 is Ventura County\n",
    "\n",
    "06037 is Los Angeles County\n",
    "\n",
    "06059 is Orange County"
   ]
  },
  {
   "cell_type": "markdown",
   "metadata": {},
   "source": [
    "- Also, we'd like to know the distribution of tax rates for each county."
   ]
  },
  {
   "cell_type": "code",
   "execution_count": 7,
   "metadata": {},
   "outputs": [],
   "source": [
    "los_angeles_county_data = pd.read_sql('''select taxamount, taxvaluedollarcnt from properties_2017\n",
    "join predictions_2017 using (id)\n",
    "join propertylandusetype using (propertylandusetypeid)\n",
    "where transactiondate between \"2017-05-01\" and \"2017-06-30\"\n",
    "and propertylandusetypeid not in (\"31\", \"47\", \"246\", \"247\", \"248\",\"264\", \"265\", \"266\",\"267\", \"269\", \"270\" )\n",
    "and taxdelinquencyflag is null\n",
    "and fips like \"6037\"''',url)"
   ]
  },
  {
   "cell_type": "code",
   "execution_count": 8,
   "metadata": {},
   "outputs": [
    {
     "data": {
      "text/plain": [
       "(       taxamount  taxvaluedollarcnt  tax_rate_percent\n",
       " 0        6089.82           498347.0          1.222004\n",
       " 1        6679.55           549917.0          1.214647\n",
       " 2        3876.31           235272.0          1.647587\n",
       " 3        4206.15           340000.0          1.237103\n",
       " 4       24353.42          2017254.0          1.207256\n",
       " 5       75862.41          5240710.0          1.447560\n",
       " 6        6861.51           629951.0          1.089213\n",
       " 7        5488.23           305481.0          1.796586\n",
       " 8        1498.86            79930.0          1.875216\n",
       " 9        3473.87           260000.0          1.336104\n",
       " 10       1048.54            66220.0          1.583419\n",
       " 11       7072.55           595000.0          1.188664\n",
       " 12       3839.92           275061.0          1.396025\n",
       " 13       3433.84           285180.0          1.204096\n",
       " 14        916.49            49719.0          1.843340\n",
       " 15        597.84            33196.0          1.800940\n",
       " 16      16345.17          1335281.0          1.224100\n",
       " 17       4890.07           405083.0          1.207177\n",
       " 18       5292.71           394900.0          1.340266\n",
       " 19       2328.88           174459.0          1.334915\n",
       " 20       3633.51           221860.0          1.637749\n",
       " 21       5165.13           418694.0          1.233629\n",
       " 22       2064.86           169843.0          1.215746\n",
       " 23       2366.31           194005.0          1.219716\n",
       " 24       3550.74           288259.0          1.231788\n",
       " 25       5295.13           433000.0          1.222894\n",
       " 26       5804.51           475804.0          1.219937\n",
       " 27       1322.60            81956.0          1.613793\n",
       " 28       3707.08           299690.0          1.236972\n",
       " 29        640.73            38257.0          1.674805\n",
       " 30       2275.39           186363.0          1.220945\n",
       " 31       5427.21           440438.0          1.232230\n",
       " 32       1234.22            94225.0          1.309865\n",
       " 33        631.22            43850.0          1.439498\n",
       " 34       5301.61           433500.0          1.222978\n",
       " 35       2607.88           214215.0          1.217412\n",
       " 36       2619.82           203463.0          1.287615\n",
       " 37       4589.61           378000.0          1.214183\n",
       " 38       2643.28           212932.0          1.241373\n",
       " 39       3527.94           275849.0          1.278939\n",
       " 40       3412.33           274197.0          1.244481\n",
       " 41       2087.18           164436.0          1.269296\n",
       " 42       5087.78           415924.0          1.223248\n",
       " 43       3358.60           264609.0          1.269269\n",
       " 44       4442.19           355336.0          1.250138\n",
       " 45       2505.59           205299.0          1.220459\n",
       " 46       3084.58           254564.0          1.211711\n",
       " 47        807.39            53387.0          1.512334\n",
       " 48        824.57            63736.0          1.293727\n",
       " 49       4040.11           334117.0          1.209190\n",
       " 50       2886.11           230763.0          1.250681\n",
       " 51       2726.42           212913.0          1.280532\n",
       " 52       3236.02           268294.0          1.206147\n",
       " 53       4937.68           408899.0          1.207555\n",
       " 54        705.55            48826.0          1.445029\n",
       " 55       3709.74           299428.0          1.238942\n",
       " 56       5309.04           438000.0          1.212110\n",
       " 57       2541.78           200962.0          1.264806\n",
       " 58       2240.34           174986.0          1.280297\n",
       " 59       1320.34            92110.0          1.433438\n",
       " 60       1439.99           108473.0          1.327510\n",
       " 61       3754.57           307134.0          1.222453\n",
       " 62       3006.10           245563.0          1.224167\n",
       " 63       2281.15           188689.0          1.208947\n",
       " 64       4129.70           334587.0          1.234268\n",
       " 65       3837.12           311974.0          1.229949\n",
       " 66       2570.29           209797.0          1.225132\n",
       " 67       5853.25           477465.0          1.225901\n",
       " 68       2597.69           207721.0          1.250567\n",
       " 69      10570.10           870000.0          1.214954\n",
       " 70       1313.96           105574.0          1.244587\n",
       " 71      23494.42          1941626.0          1.210038\n",
       " 72       5899.02           483441.0          1.220215\n",
       " 73        624.59            49864.0          1.252587\n",
       " 74       5206.63           429365.0          1.212635\n",
       " 75      15912.78          1308488.0          1.216120\n",
       " 76        868.69            61666.0          1.408702\n",
       " 77       3594.24           291649.0          1.232386\n",
       " 78       4175.25           343026.0          1.217182\n",
       " 79        758.29            56489.0          1.342368\n",
       " 80       6059.11           494426.0          1.225484\n",
       " 81       8299.38           678273.0          1.223605\n",
       " 82       2782.53           227563.0          1.222752\n",
       " 83      14748.37          1214888.0          1.213970\n",
       " 84       3847.26           305091.0          1.261020\n",
       " ...          ...                ...               ...\n",
       " 12269    5086.92           399000.0          1.274917\n",
       " 12270    2669.75           195562.0          1.365168\n",
       " 12271    1024.84            56282.0          1.820902\n",
       " 12272    3851.98           296043.0          1.301156\n",
       " 12273    1868.63           135134.0          1.382798\n",
       " 12274    4446.72           338469.0          1.313775\n",
       " 12275    2841.65           203651.0          1.395353\n",
       " 12276    3076.94           222626.0          1.382112\n",
       " 12277    2533.01           184642.0          1.371849\n",
       " 12278    2091.16           145935.0          1.432939\n",
       " 12279    4965.88           381638.0          1.301202\n",
       " 12280    2680.21           196704.0          1.362560\n",
       " 12281    3544.34           268846.0          1.318353\n",
       " 12282    1696.82           113935.0          1.489288\n",
       " 12283    3580.18           266509.0          1.343362\n",
       " 12284    5435.95           422000.0          1.288140\n",
       " 12285    5965.68           475000.0          1.255933\n",
       " 12286    2336.90           168980.0          1.382945\n",
       " 12287    3554.03           271344.0          1.309788\n",
       " 12288    4959.99           389611.0          1.273062\n",
       " 12289    1187.26            71404.0          1.662736\n",
       " 12290    3974.48           304445.0          1.305484\n",
       " 12291    2689.59           197886.0          1.359161\n",
       " 12292    2817.58           202401.0          1.392078\n",
       " 12293    1217.77            74293.0          1.639145\n",
       " 12294    6371.01           509000.0          1.251672\n",
       " 12295    3455.88           263475.0          1.311654\n",
       " 12296    7546.75           604821.0          1.247766\n",
       " 12297    4835.58           378102.0          1.278909\n",
       " 12298    4101.55           317267.0          1.292775\n",
       " 12299     767.21            37223.0          2.061118\n",
       " 12300    2219.39           122654.0          1.809472\n",
       " 12301    4661.29           333955.0          1.395784\n",
       " 12302    3563.57           264709.0          1.346222\n",
       " 12303    3977.84           305309.0          1.302890\n",
       " 12304     787.63            37431.0          2.104218\n",
       " 12305    1044.36            58036.0          1.799504\n",
       " 12306    2977.12           214470.0          1.388129\n",
       " 12307    4514.80           344834.0          1.309268\n",
       " 12308    2801.85           201180.0          1.392708\n",
       " 12309    3104.86           233349.0          1.330565\n",
       " 12310    2415.47           169582.0          1.424367\n",
       " 12311    2679.14           197240.0          1.358315\n",
       " 12312    5049.49           390000.0          1.294741\n",
       " 12313    4096.32           316207.0          1.295455\n",
       " 12314    3241.89           243875.0          1.329324\n",
       " 12315    4067.74           304470.0          1.336007\n",
       " 12316    2705.37           191351.0          1.413826\n",
       " 12317     966.43            53552.0          1.804657\n",
       " 12318    2791.50           200619.0          1.391443\n",
       " 12319    1415.22            81243.0          1.741959\n",
       " 12320    1013.27            54622.0          1.855058\n",
       " 12321    3203.73           241620.0          1.325937\n",
       " 12322    4913.18           378786.0          1.297086\n",
       " 12323    2783.23           205456.0          1.354660\n",
       " 12324    2940.56           210842.0          1.394675\n",
       " 12325    4067.24           315189.0          1.290413\n",
       " 12326    4971.19           384000.0          1.294581\n",
       " 12327    3367.74           254060.0          1.325569\n",
       " 12328    4420.37           335000.0          1.319513\n",
       " 12329     882.88            45925.0          1.922439\n",
       " 12330    2926.63           210549.0          1.389999\n",
       " 12331     974.41            51727.0          1.883755\n",
       " 12332    2956.28           220896.0          1.338313\n",
       " 12333    2600.48           184936.0          1.406151\n",
       " 12334    2106.84           143936.0          1.463734\n",
       " 12335    4175.08           317907.0          1.313302\n",
       " 12336    3984.02           301533.0          1.321255\n",
       " 12337    2806.62           202399.0          1.386677\n",
       " 12338    3146.69           237507.0          1.324883\n",
       " 12339    5958.28           512701.0          1.162135\n",
       " 12340    1345.91            84604.0          1.590835\n",
       " 12341    6237.15           491010.0          1.270269\n",
       " 12342    1424.98            83556.0          1.705419\n",
       " 12343    2886.33           213735.0          1.350425\n",
       " 12344    2808.39           208601.0          1.346297\n",
       " 12345    4647.69           364080.0          1.276557\n",
       " 12346    5243.39           337869.0          1.551900\n",
       " 12347    3124.43           192065.0          1.626757\n",
       " 12348    1084.21            59830.0          1.812151\n",
       " 12349    4532.87           321351.0          1.410567\n",
       " 12350     813.11            32830.0          2.476729\n",
       " 12351    4495.39           324000.0          1.387466\n",
       " 12352    4014.27           284770.0          1.409653\n",
       " 12353    6350.89           441000.0          1.440111\n",
       " \n",
       " [12200 rows x 3 columns],\n",
       " <matplotlib.axes._subplots.AxesSubplot at 0x10a6b0dd8>)"
      ]
     },
     "execution_count": 8,
     "metadata": {},
     "output_type": "execute_result"
    },
    {
     "data": {
      "image/png": "[encoded data removed]",
      "text/plain": [
       "<Figure size 432x288 with 1 Axes>"
      ]
     },
     "metadata": {
      "needs_background": "light"
     },
     "output_type": "display_data"
    }
   ],
   "source": [
    "# Created a function that accepts county data as input and returns two things: The database with null values and a plot of the tax rate distribution\n",
    "tax_rate_distributions.drop_nulls_add_tax_rate_percent(los_angeles_county_data)"
   ]
  },
  {
   "cell_type": "code",
   "execution_count": 9,
   "metadata": {},
   "outputs": [],
   "source": [
    "orange_county_data = pd.read_sql('''select taxamount, taxvaluedollarcnt from properties_2017\n",
    "join predictions_2017 using (id)\n",
    "join propertylandusetype using (propertylandusetypeid)\n",
    "where transactiondate between \"2017-05-01\" and \"2017-06-30\"\n",
    "and propertylandusetypeid not in (\"31\", \"47\", \"246\", \"247\", \"248\",\"264\", \"265\", \"266\",\"267\", \"269\", \"270\" )\n",
    "and taxdelinquencyflag is null\n",
    "and fips like \"6059\"''',url)"
   ]
  },
  {
   "cell_type": "code",
   "execution_count": 10,
   "metadata": {},
   "outputs": [
    {
     "data": {
      "text/plain": [
       "(      taxamount  taxvaluedollarcnt  tax_rate_percent\n",
       " 0       5822.90           479778.0          1.213665\n",
       " 1        872.48            50102.0          1.741408\n",
       " 2       2953.10           290614.0          1.016159\n",
       " 3       9740.22           829744.0          1.173883\n",
       " 4       5235.58           465753.0          1.124111\n",
       " 5       4090.82           342564.0          1.194177\n",
       " 6       3117.46           255401.0          1.220614\n",
       " 7       5322.70           445876.0          1.193762\n",
       " 8       3566.08           288575.0          1.235755\n",
       " 9       3107.62           254520.0          1.220973\n",
       " 10      1202.60            83930.0          1.432861\n",
       " 11      7758.84           671028.0          1.156262\n",
       " 12      4583.52           379685.0          1.207190\n",
       " 13      2847.00           231182.0          1.231497\n",
       " 14      6161.62           521000.0          1.182653\n",
       " 15      1853.40           135207.0          1.370787\n",
       " 16      6578.38           232137.0          2.833835\n",
       " 17      5067.24           430000.0          1.178428\n",
       " 18      1953.70           151190.0          1.292215\n",
       " 19      2711.96           212090.0          1.278684\n",
       " 20       837.12            44202.0          1.893851\n",
       " 21      5136.60           436212.0          1.177547\n",
       " 22      1864.60           143211.0          1.301995\n",
       " 23      1035.36            61954.0          1.671175\n",
       " 24      4447.06           367465.0          1.210200\n",
       " 25      1561.14           116037.0          1.345381\n",
       " 26       908.06            50554.0          1.796218\n",
       " 27      4942.26           418809.0          1.180075\n",
       " 28      2766.76           216997.0          1.275022\n",
       " 29      4538.38           375642.0          1.208166\n",
       " 30      2950.24           233427.0          1.263881\n",
       " 31      2598.50           190216.0          1.366079\n",
       " 32      2340.70           178844.0          1.308794\n",
       " 33      4040.72           338078.0          1.195203\n",
       " 34      4183.72           343883.0          1.216611\n",
       " 35      1113.68            57254.0          1.945157\n",
       " 36      3375.44           271503.0          1.243242\n",
       " 37      2937.72           239306.0          1.227600\n",
       " 38      2704.76           218446.0          1.238182\n",
       " 39      3649.56           303050.0          1.204277\n",
       " 40       741.06            42599.0          1.739618\n",
       " 41      2728.96           213613.0          1.277525\n",
       " 42      2528.28           195641.0          1.292306\n",
       " 43      1131.28            77544.0          1.458888\n",
       " 44      3123.22           248918.0          1.254718\n",
       " 45      2252.92           177984.0          1.265799\n",
       " 46      2199.00           173156.0          1.269953\n",
       " 47       892.26            56139.0          1.589376\n",
       " 48      3068.74           244038.0          1.257484\n",
       " 49      3909.68           326343.0          1.198028\n",
       " 50      1749.20           132876.0          1.316415\n",
       " 51      2224.18           175410.0          1.267989\n",
       " 52      4140.36           340000.0          1.217753\n",
       " 53      3246.46           259953.0          1.248864\n",
       " 54      4935.20           411176.0          1.200265\n",
       " 55      4331.80           357144.0          1.212900\n",
       " 56      4821.56           401000.0          1.202384\n",
       " 57      1858.44           142659.0          1.302715\n",
       " 58       848.66            52236.0          1.624665\n",
       " 59      4646.70           171033.0          2.716844\n",
       " 60       951.70            54463.0          1.747425\n",
       " 61      3183.68           254331.0          1.251786\n",
       " 62      2239.34           176768.0          1.266824\n",
       " 63      3453.36           278481.0          1.240070\n",
       " 64      5065.72           422865.0          1.197952\n",
       " 65      4305.62           354799.0          1.213538\n",
       " 66      3253.66           260598.0          1.248536\n",
       " 67      2888.28           234879.0          1.229688\n",
       " 68      3304.52           265152.0          1.246274\n",
       " 69      4408.38           364000.0          1.211093\n",
       " 70      3187.22           254649.0          1.251613\n",
       " 71      3279.26           269891.0          1.215031\n",
       " 72      4966.74           421000.0          1.179748\n",
       " 73      3135.96           293931.0          1.066903\n",
       " 74      6528.66           590000.0          1.106553\n",
       " 75      2195.32           181403.0          1.210189\n",
       " 76       999.28            67086.0          1.489551\n",
       " 77      5671.06           526646.0          1.076826\n",
       " 78      1597.00           122037.0          1.308620\n",
       " 79      2780.60           230851.0          1.204500\n",
       " 80      8096.44           712560.0          1.136247\n",
       " 81      2131.76           175410.0          1.215301\n",
       " 82       990.22            67771.0          1.461126\n",
       " 83      3031.24           260222.0          1.164867\n",
       " 84      5271.66           464476.0          1.134969\n",
       " ...         ...                ...               ...\n",
       " 2788     532.04            55619.0          0.956580\n",
       " 2789    3036.86           260543.0          1.165589\n",
       " 2790    3485.02           288611.0          1.207515\n",
       " 2791    4050.14           338024.0          1.198181\n",
       " 2792    5403.78           460000.0          1.174735\n",
       " 2793    6125.32           522853.0          1.171519\n",
       " 2794     423.36            39071.0          1.083566\n",
       " 2795    2810.16           234446.0          1.198638\n",
       " 2796    3053.02           248959.0          1.226314\n",
       " 2797    7911.44           786818.0          1.005498\n",
       " 2798   16896.66          1210234.0          1.396148\n",
       " 2799    3475.46           295040.0          1.177962\n",
       " 2800     516.36            47624.0          1.084243\n",
       " 2801    3248.06           274870.0          1.181671\n",
       " 2802    4133.84           351833.0          1.174944\n",
       " 2803    4055.86           342441.0          1.184397\n",
       " 2804    2069.78           165437.0          1.251099\n",
       " 2805   20458.60          1562085.0          1.309698\n",
       " 2806    3613.20           300273.0          1.203305\n",
       " 2807    3219.18           268943.0          1.196975\n",
       " 2808    1985.20           148830.0          1.333871\n",
       " 2809    2234.98           156411.0          1.428915\n",
       " 2810    2467.68           190215.0          1.297311\n",
       " 2811    3347.04           253566.0          1.319988\n",
       " 2812      24.54             9351.0          0.262432\n",
       " 2813    1380.50            59822.0          2.307679\n",
       " 2814    3331.36           295890.0          1.125878\n",
       " 2815    2148.30           161616.0          1.329262\n",
       " 2816    1939.74           149940.0          1.293677\n",
       " 2817    3948.24           328921.0          1.200361\n",
       " 2818   13512.38           944578.0          1.430520\n",
       " 2819    3301.48           293147.0          1.126220\n",
       " 2820    6689.10           583570.0          1.146238\n",
       " 2821    2515.62           207255.0          1.213780\n",
       " 2822    3946.48           313865.0          1.257381\n",
       " 2823    2197.08           177850.0          1.235356\n",
       " 2824    2017.36           157916.0          1.277489\n",
       " 2825      82.50             7522.0          1.096783\n",
       " 2826    6884.48           572128.0          1.203311\n",
       " 2827    6725.54           570457.0          1.178974\n",
       " 2828    2341.42           188166.0          1.244337\n",
       " 2829      53.22             5304.0          1.003394\n",
       " 2830      61.14            12827.0          0.476651\n",
       " 2831     813.66            86328.0          0.942522\n",
       " 2833   16275.26          1153205.0          1.411307\n",
       " 2834   19332.72          1240105.0          1.558958\n",
       " 2835   19962.60          1494498.0          1.335739\n",
       " 2836     737.22            76775.0          0.960234\n",
       " 2837   13050.66          1265512.0          1.031255\n",
       " 2838   16847.84           754824.0          2.232022\n",
       " 2839   13649.86          1317435.0          1.036094\n",
       " 2840   10920.88           912327.0          1.197036\n",
       " 2841    7143.24           634449.0          1.125897\n",
       " 2842   14200.98          1030737.0          1.377750\n",
       " 2843   11050.78          1035488.0          1.067205\n",
       " 2844   13116.78           925934.0          1.416600\n",
       " 2845   24465.02          1748107.0          1.399515\n",
       " 2846   18594.28          1523707.0          1.220332\n",
       " 2847   16584.36          1191674.0          1.391686\n",
       " 2848   14378.62          1383690.0          1.039150\n",
       " 2849    8986.66           597977.0          1.502844\n",
       " 2850    2877.70           244994.0          1.174600\n",
       " 2851   13076.12           834044.0          1.567797\n",
       " 2852   17341.44          1588804.0          1.091478\n",
       " 2853    6399.50           524579.0          1.219931\n",
       " 2854   19372.82          1343933.0          1.441502\n",
       " 2855   13926.82           997518.0          1.396147\n",
       " 2856   15714.04          1401472.0          1.121253\n",
       " 2857   12002.66           936363.0          1.281838\n",
       " 2858    7841.68           708594.0          1.106653\n",
       " 2859   13363.56          1217960.0          1.097208\n",
       " 2860   12337.48          1189610.0          1.037103\n",
       " 2861   73431.48          6465279.0          1.135782\n",
       " 2862   10151.26           558204.0          1.818557\n",
       " 2863   14276.64           962517.0          1.483261\n",
       " 2864   14059.60          1012818.0          1.388166\n",
       " 2865   24985.64          1658456.0          1.506560\n",
       " 2866   14957.86           726083.0          2.060076\n",
       " 2867     108.88             9928.0          1.096696\n",
       " 2868     862.80            78655.0          1.096942\n",
       " 2869    4568.30           451131.0          1.012633\n",
       " 2870    9897.36           885000.0          1.118346\n",
       " 2871     203.56            18000.0          1.130889\n",
       " 2872    1387.40           136473.0          1.016611\n",
       " 2873     253.62            24700.0          1.026802\n",
       " \n",
       " [2858 rows x 3 columns],\n",
       " <matplotlib.axes._subplots.AxesSubplot at 0x1a1fe6a630>)"
      ]
     },
     "execution_count": 10,
     "metadata": {},
     "output_type": "execute_result"
    },
    {
     "data": {
      "image/png": "[encoded data removed]",
      "text/plain": [
       "<Figure size 432x288 with 1 Axes>"
      ]
     },
     "metadata": {
      "needs_background": "light"
     },
     "output_type": "display_data"
    }
   ],
   "source": [
    "tax_rate_distributions.drop_nulls_add_tax_rate_percent(orange_county_data)"
   ]
  },
  {
   "cell_type": "code",
   "execution_count": 11,
   "metadata": {},
   "outputs": [],
   "source": [
    "ventura_county_data = pd.read_sql('''select taxamount, taxvaluedollarcnt from properties_2017\n",
    "join predictions_2017 using (id)\n",
    "join propertylandusetype using (propertylandusetypeid)\n",
    "where transactiondate between \"2017-05-01\" and \"2017-06-30\"\n",
    "and propertylandusetypeid not in (\"31\", \"47\", \"246\", \"247\", \"248\",\"264\", \"265\", \"266\",\"267\", \"269\", \"270\" )\n",
    "and taxdelinquencyflag is null\n",
    "and fips like \"6111\"''',url)"
   ]
  },
  {
   "cell_type": "code",
   "execution_count": 12,
   "metadata": {},
   "outputs": [
    {
     "data": {
      "text/plain": [
       "(     taxamount  taxvaluedollarcnt  tax_rate_percent\n",
       " 0       212.46            27400.0          0.775401\n",
       " 1      1489.06           126974.0          1.172728\n",
       " 2      4224.78           358876.0          1.177226\n",
       " 3      8030.60           733940.0          1.094177\n",
       " 4      8650.36           769907.0          1.123559\n",
       " 5       497.84           224593.0          0.221663\n",
       " 6      4715.00           403030.0          1.169888\n",
       " 7      4285.10           364965.0          1.174113\n",
       " 8     19117.34          1808125.0          1.057302\n",
       " 9     13380.72          1243000.0          1.076486\n",
       " 10     4478.84           383056.0          1.169239\n",
       " 11     8250.30           776889.0          1.061966\n",
       " 12     4872.10           360391.0          1.351893\n",
       " 13     8708.02           714000.0          1.219611\n",
       " 14     4478.58           421966.0          1.061360\n",
       " 15     5341.74           496189.0          1.076553\n",
       " 16     5637.74           529683.0          1.064361\n",
       " 17     5965.52           476000.0          1.253261\n",
       " 18     5204.10           409470.0          1.270936\n",
       " 19     8997.62           806386.0          1.115796\n",
       " 20    10734.72           979000.0          1.096498\n",
       " 21     9561.30           837386.0          1.141803\n",
       " 22     4399.78           417122.0          1.054795\n",
       " 23     4065.18           385530.0          1.054439\n",
       " 24     2631.68           192102.0          1.369939\n",
       " 25     7912.90           706133.0          1.120596\n",
       " 26     4138.06           446465.0          0.926850\n",
       " 27     6073.36           482876.0          1.257747\n",
       " 28     5248.68           457019.0          1.148460\n",
       " 29    15103.44          1348378.0          1.120119\n",
       " 30    13569.72          1248000.0          1.087317\n",
       " 31     7184.46           636192.0          1.129291\n",
       " 32    38677.72          3631311.0          1.065117\n",
       " 33     5832.18           548151.0          1.063973\n",
       " 34     7615.16           708758.0          1.074437\n",
       " 35    12745.72          1197265.0          1.064570\n",
       " 36     8595.84           714000.0          1.203899\n",
       " 37     7154.00           719000.0          0.994993\n",
       " 38     9238.60           775000.0          1.192077\n",
       " 39     4741.66           381970.0          1.241370\n",
       " 40     6270.66           522000.0          1.201276\n",
       " 41    10315.56           921000.0          1.120039\n",
       " 42     6642.12           584416.0          1.136540\n",
       " 43     8029.04           713000.0          1.126093\n",
       " 44    24242.96          2236504.0          1.083967\n",
       " 45    10387.60           933000.0          1.113355\n",
       " 46     2185.40           189155.0          1.155349\n",
       " 47     2204.84           198054.0          1.113252\n",
       " 48     9797.86           871216.0          1.124619\n",
       " 49     9439.52           844559.0          1.117686\n",
       " 50     3874.56           296000.0          1.308973\n",
       " 51     1822.52            84254.0          2.163126\n",
       " 52     6926.92           590443.0          1.173173\n",
       " 53     2723.02           257985.0          1.055495\n",
       " 54     3832.26           364027.0          1.052741\n",
       " 55     5382.24           507000.0          1.061586\n",
       " 56     8649.74           407928.0          2.120409\n",
       " 57     6610.68           553000.0          1.195421\n",
       " 58     6907.84           642029.0          1.075939\n",
       " 59     3687.26           326838.0          1.128161\n",
       " 60     5578.22           528120.0          1.056241\n",
       " 61     8534.74           761000.0          1.121516\n",
       " 62     3496.24           307590.0          1.136656\n",
       " 63     9398.98           841000.0          1.117596\n",
       " 64     9379.16           881410.0          1.064109\n",
       " 65     6615.18           615000.0          1.075639\n",
       " 66    13271.66           757500.0          1.752034\n",
       " 67     7278.52           670998.0          1.084731\n",
       " 68     7848.36           725000.0          1.082532\n",
       " 69    12778.10           998066.0          1.280286\n",
       " 70    15442.14          1243680.0          1.241649\n",
       " 71     8857.96           282940.0          3.130685\n",
       " 72    20621.44          1921000.0          1.073474\n",
       " 73    13605.50          1250000.0          1.088440\n",
       " 74     2060.20           176973.0          1.164132\n",
       " 75     8407.68           781434.0          1.075930\n",
       " 76     5843.02           556036.0          1.050835\n",
       " 77     7343.56           608108.0          1.207608\n",
       " 78      551.38            49705.0          1.109305\n",
       " 79    16676.34          1516239.0          1.099849\n",
       " 80      472.40            42028.0          1.124013\n",
       " 81     4522.14           417138.0          1.084087\n",
       " 82     4279.96           354554.0          1.207139\n",
       " 83     9605.84           895000.0          1.073278\n",
       " 84      856.32            75001.0          1.141745\n",
       " ..         ...                ...               ...\n",
       " 746    2324.04           218527.0          1.063502\n",
       " 747    1644.70           153511.0          1.071389\n",
       " 748    3419.74           323590.0          1.056813\n",
       " 749    9255.80           849000.0          1.090200\n",
       " 750    3185.48           300104.0          1.061459\n",
       " 751    6167.14           583768.0          1.056437\n",
       " 752    1902.38           178015.0          1.068663\n",
       " 753    8460.98           802046.0          1.054925\n",
       " 754     837.46            77793.0          1.076524\n",
       " 755    3155.80           270912.0          1.164880\n",
       " 756    8112.22           742000.0          1.093291\n",
       " 757    3466.90           328255.0          1.056161\n",
       " 758    1665.64           149751.0          1.112273\n",
       " 759    2581.68           244016.0          1.057996\n",
       " 760    4953.08           462662.0          1.070561\n",
       " 761    3616.40           335467.0          1.078020\n",
       " 762    3104.76           286794.0          1.082575\n",
       " 763    4728.66           438540.0          1.078273\n",
       " 764    3294.32           311755.0          1.056702\n",
       " 765    6728.26           638532.0          1.053708\n",
       " 766    8552.04           805000.0          1.062365\n",
       " 767    3046.08           288212.0          1.056889\n",
       " 768     821.42            76530.0          1.073331\n",
       " 769    6396.94           600000.0          1.066157\n",
       " 770    5151.18           487014.0          1.057707\n",
       " 771    7525.38           713000.0          1.055453\n",
       " 772     937.72            79197.0          1.184035\n",
       " 773    6826.24           640780.0          1.065302\n",
       " 774    4688.98           444396.0          1.055136\n",
       " 775    1021.56            95491.0          1.069797\n",
       " 776   11063.04          1050908.0          1.052713\n",
       " 777     916.22            85564.0          1.070801\n",
       " 778    4377.78           414920.0          1.055090\n",
       " 779    1813.54           170887.0          1.061251\n",
       " 780    1151.12           106554.0          1.080316\n",
       " 781    3426.40           323028.0          1.060713\n",
       " 782    3966.44           359551.0          1.103165\n",
       " 783    6341.22           577835.0          1.097410\n",
       " 784    8076.28           750592.0          1.075988\n",
       " 785    7301.38           665070.0          1.097836\n",
       " 786    6880.34           644683.0          1.067244\n",
       " 787    3006.26           283066.0          1.062035\n",
       " 788    2191.44           205712.0          1.065295\n",
       " 789    9827.20           806362.0          1.218708\n",
       " 790    8170.92           644920.0          1.266966\n",
       " 791    8652.10           680217.0          1.271962\n",
       " 792    7888.50           613736.0          1.285325\n",
       " 793    7018.04           544900.0          1.287950\n",
       " 794    8856.50           772000.0          1.147215\n",
       " 795   21296.70          2007672.0          1.060766\n",
       " 796   11532.60          1078621.0          1.069199\n",
       " 797    7240.16           664321.0          1.089859\n",
       " 798   10960.84          1026149.0          1.068153\n",
       " 799   10550.38           987000.0          1.068934\n",
       " 800   23843.12          2208168.0          1.079769\n",
       " 801   14681.64          1344000.0          1.092384\n",
       " 802    5866.04           481979.0          1.217074\n",
       " 803    2220.26           142168.0          1.561716\n",
       " 804    8618.46           743764.0          1.158763\n",
       " 805    8181.06           702152.0          1.165141\n",
       " 806    6143.32           515265.0          1.192264\n",
       " 807    3680.14           280898.0          1.310134\n",
       " 808    5081.58           414477.0          1.226022\n",
       " 809    2337.86           153177.0          1.526247\n",
       " 810   14701.98          1324168.0          1.110281\n",
       " 811    6260.44           478473.0          1.308421\n",
       " 812    6477.48           514779.0          1.258303\n",
       " 813    3750.82           277037.0          1.353906\n",
       " 814    8946.26           712704.0          1.255256\n",
       " 815    4873.70           357653.0          1.362690\n",
       " 816    7451.16           582354.0          1.279490\n",
       " 817    7728.46           606747.0          1.273753\n",
       " 818   15161.94          1254000.0          1.209086\n",
       " 819   13970.10          1150159.0          1.214623\n",
       " 824     285.74            34436.0          0.829771\n",
       " 825     378.06            43300.0          0.873118\n",
       " 826     197.88            19000.0          1.041474\n",
       " 827     107.26            17300.0          0.620000\n",
       " 828     371.42            42663.0          0.870590\n",
       " 829     169.76            23300.0          0.728584\n",
       " 833    1319.00            42700.0          3.088993\n",
       " 834      82.72            14300.0          0.578462\n",
       " 835     521.32            46000.0          1.133304\n",
       " 836     897.36            91000.0          0.986110\n",
       " 841     160.38            20914.0          0.766855\n",
       " \n",
       " [822 rows x 3 columns],\n",
       " <matplotlib.axes._subplots.AxesSubplot at 0x1a202477b8>)"
      ]
     },
     "execution_count": 12,
     "metadata": {},
     "output_type": "execute_result"
    },
    {
     "data": {
      "image/png": "[encoded data removed]",
      "text/plain": [
       "<Figure size 432x288 with 1 Axes>"
      ]
     },
     "metadata": {
      "needs_background": "light"
     },
     "output_type": "display_data"
    }
   ],
   "source": [
    "tax_rate_distributions.drop_nulls_add_tax_rate_percent(ventura_county_data)"
   ]
  },
  {
   "cell_type": "markdown",
   "metadata": {},
   "source": [
    "## Split Data"
   ]
  },
  {
   "cell_type": "code",
   "execution_count": 39,
   "metadata": {},
   "outputs": [],
   "source": [
    "# Split data into 80% train and 20% test\n",
    "train, test = split_scale.split_my_data(data)\n",
    "# Define X_train variable as target features: bedroom count, bathroom count, and finished square footage\n",
    "X_train = train.drop(columns=[\"id\", \"taxvaluedollarcnt\"])\n",
    "y_train = pd.DataFrame([train.taxvaluedollarcnt])\n",
    "# y_train is our target variable tax value dollar amount\n",
    "y_train = y_train.transpose()\n",
    "# This test data won't be used until after we have created a model. It is used to test the effectiveness of the model.\n",
    "X_test = test.drop(columns=[\"id\", \"taxvaluedollarcnt\"])\n",
    "y_test = pd.DataFrame([test.taxvaluedollarcnt])\n",
    "y_test = y_test.transpose()"
   ]
  },
  {
   "cell_type": "code",
   "execution_count": 14,
   "metadata": {},
   "outputs": [
    {
     "data": {
      "text/html": [
       "<div>\n",
       "<style scoped>\n",
       "    .dataframe tbody tr th:only-of-type {\n",
       "        vertical-align: middle;\n",
       "    }\n",
       "\n",
       "    .dataframe tbody tr th {\n",
       "        vertical-align: top;\n",
       "    }\n",
       "\n",
       "    .dataframe thead th {\n",
       "        text-align: right;\n",
       "    }\n",
       "</style>\n",
       "<table border=\"1\" class=\"dataframe\">\n",
       "  <thead>\n",
       "    <tr style=\"text-align: right;\">\n",
       "      <th></th>\n",
       "      <th>calculatedfinishedsquarefeet</th>\n",
       "      <th>bedroomcnt</th>\n",
       "      <th>bathroomcnt</th>\n",
       "    </tr>\n",
       "    <tr>\n",
       "      <th>id</th>\n",
       "      <th></th>\n",
       "      <th></th>\n",
       "      <th></th>\n",
       "    </tr>\n",
       "  </thead>\n",
       "  <tbody>\n",
       "    <tr>\n",
       "      <th>38745</th>\n",
       "      <td>1325.0</td>\n",
       "      <td>3.0</td>\n",
       "      <td>2.0</td>\n",
       "    </tr>\n",
       "    <tr>\n",
       "      <th>50623</th>\n",
       "      <td>2653.0</td>\n",
       "      <td>4.0</td>\n",
       "      <td>3.0</td>\n",
       "    </tr>\n",
       "    <tr>\n",
       "      <th>49742</th>\n",
       "      <td>1404.0</td>\n",
       "      <td>3.0</td>\n",
       "      <td>1.0</td>\n",
       "    </tr>\n",
       "    <tr>\n",
       "      <th>32634</th>\n",
       "      <td>1043.0</td>\n",
       "      <td>2.0</td>\n",
       "      <td>1.0</td>\n",
       "    </tr>\n",
       "    <tr>\n",
       "      <th>52220</th>\n",
       "      <td>392.0</td>\n",
       "      <td>1.0</td>\n",
       "      <td>1.0</td>\n",
       "    </tr>\n",
       "  </tbody>\n",
       "</table>\n",
       "</div>"
      ],
      "text/plain": [
       "       calculatedfinishedsquarefeet  bedroomcnt  bathroomcnt\n",
       "id                                                          \n",
       "38745                        1325.0         3.0          2.0\n",
       "50623                        2653.0         4.0          3.0\n",
       "49742                        1404.0         3.0          1.0\n",
       "32634                        1043.0         2.0          1.0\n",
       "52220                         392.0         1.0          1.0"
      ]
     },
     "execution_count": 14,
     "metadata": {},
     "output_type": "execute_result"
    }
   ],
   "source": [
    "X_train.head()"
   ]
  },
  {
   "cell_type": "code",
   "execution_count": 15,
   "metadata": {},
   "outputs": [
    {
     "data": {
      "text/html": [
       "<div>\n",
       "<style scoped>\n",
       "    .dataframe tbody tr th:only-of-type {\n",
       "        vertical-align: middle;\n",
       "    }\n",
       "\n",
       "    .dataframe tbody tr th {\n",
       "        vertical-align: top;\n",
       "    }\n",
       "\n",
       "    .dataframe thead th {\n",
       "        text-align: right;\n",
       "    }\n",
       "</style>\n",
       "<table border=\"1\" class=\"dataframe\">\n",
       "  <thead>\n",
       "    <tr style=\"text-align: right;\">\n",
       "      <th></th>\n",
       "      <th>taxvaluedollarcnt</th>\n",
       "    </tr>\n",
       "    <tr>\n",
       "      <th>id</th>\n",
       "      <th></th>\n",
       "    </tr>\n",
       "  </thead>\n",
       "  <tbody>\n",
       "    <tr>\n",
       "      <th>38745</th>\n",
       "      <td>438000.0</td>\n",
       "    </tr>\n",
       "    <tr>\n",
       "      <th>50623</th>\n",
       "      <td>1114725.0</td>\n",
       "    </tr>\n",
       "    <tr>\n",
       "      <th>49742</th>\n",
       "      <td>156815.0</td>\n",
       "    </tr>\n",
       "    <tr>\n",
       "      <th>32634</th>\n",
       "      <td>54630.0</td>\n",
       "    </tr>\n",
       "    <tr>\n",
       "      <th>52220</th>\n",
       "      <td>86974.0</td>\n",
       "    </tr>\n",
       "  </tbody>\n",
       "</table>\n",
       "</div>"
      ],
      "text/plain": [
       "       taxvaluedollarcnt\n",
       "id                      \n",
       "38745           438000.0\n",
       "50623          1114725.0\n",
       "49742           156815.0\n",
       "32634            54630.0\n",
       "52220            86974.0"
      ]
     },
     "execution_count": 15,
     "metadata": {},
     "output_type": "execute_result"
    }
   ],
   "source": [
    "y_train.head()"
   ]
  },
  {
   "cell_type": "markdown",
   "metadata": {},
   "source": [
    "## Scale Data"
   ]
  },
  {
   "cell_type": "markdown",
   "metadata": {},
   "source": [
    "Scaling data is important to ensure "
   ]
  },
  {
   "cell_type": "code",
   "execution_count": 16,
   "metadata": {},
   "outputs": [],
   "source": [
    "X_train_scaled = split_scale.standard_scaler(X_train)"
   ]
  },
  {
   "cell_type": "code",
   "execution_count": 17,
   "metadata": {},
   "outputs": [
    {
     "data": {
      "text/html": [
       "<div>\n",
       "<style scoped>\n",
       "    .dataframe tbody tr th:only-of-type {\n",
       "        vertical-align: middle;\n",
       "    }\n",
       "\n",
       "    .dataframe tbody tr th {\n",
       "        vertical-align: top;\n",
       "    }\n",
       "\n",
       "    .dataframe thead th {\n",
       "        text-align: right;\n",
       "    }\n",
       "</style>\n",
       "<table border=\"1\" class=\"dataframe\">\n",
       "  <thead>\n",
       "    <tr style=\"text-align: right;\">\n",
       "      <th></th>\n",
       "      <th>calculatedfinishedsquarefeet</th>\n",
       "      <th>bedroomcnt</th>\n",
       "      <th>bathroomcnt</th>\n",
       "    </tr>\n",
       "  </thead>\n",
       "  <tbody>\n",
       "    <tr>\n",
       "      <th>38745</th>\n",
       "      <td>-0.514584</td>\n",
       "      <td>-0.267427</td>\n",
       "      <td>-0.207336</td>\n",
       "    </tr>\n",
       "    <tr>\n",
       "      <th>50623</th>\n",
       "      <td>0.821766</td>\n",
       "      <td>0.775431</td>\n",
       "      <td>0.763844</td>\n",
       "    </tr>\n",
       "    <tr>\n",
       "      <th>49742</th>\n",
       "      <td>-0.435087</td>\n",
       "      <td>-0.267427</td>\n",
       "      <td>-1.178516</td>\n",
       "    </tr>\n",
       "    <tr>\n",
       "      <th>32634</th>\n",
       "      <td>-0.798357</td>\n",
       "      <td>-1.310285</td>\n",
       "      <td>-1.178516</td>\n",
       "    </tr>\n",
       "    <tr>\n",
       "      <th>52220</th>\n",
       "      <td>-1.453451</td>\n",
       "      <td>-2.353143</td>\n",
       "      <td>-1.178516</td>\n",
       "    </tr>\n",
       "  </tbody>\n",
       "</table>\n",
       "</div>"
      ],
      "text/plain": [
       "       calculatedfinishedsquarefeet  bedroomcnt  bathroomcnt\n",
       "38745                     -0.514584   -0.267427    -0.207336\n",
       "50623                      0.821766    0.775431     0.763844\n",
       "49742                     -0.435087   -0.267427    -1.178516\n",
       "32634                     -0.798357   -1.310285    -1.178516\n",
       "52220                     -1.453451   -2.353143    -1.178516"
      ]
     },
     "execution_count": 17,
     "metadata": {},
     "output_type": "execute_result"
    }
   ],
   "source": [
    "X_train_scaled.head()"
   ]
  },
  {
   "cell_type": "markdown",
   "metadata": {},
   "source": [
    "# Explore"
   ]
  },
  {
   "cell_type": "markdown",
   "metadata": {},
   "source": [
    "Here we can start exploring our features to see how they relate to each other and how they relate to our target variable. "
   ]
  },
  {
   "cell_type": "markdown",
   "metadata": {},
   "source": [
    "- Here is a heatmap showing the correlations between our variables:"
   ]
  },
  {
   "cell_type": "code",
   "execution_count": 18,
   "metadata": {},
   "outputs": [
    {
     "data": {
      "text/plain": [
       "<matplotlib.axes._subplots.AxesSubplot at 0x1a203776d8>"
      ]
     },
     "execution_count": 18,
     "metadata": {},
     "output_type": "execute_result"
    },
    {
     "data": {
      "image/png": "[encoded data removed]",
      "text/plain": [
       "<Figure size 432x288 with 2 Axes>"
      ]
     },
     "metadata": {
      "needs_background": "light"
     },
     "output_type": "display_data"
    }
   ],
   "source": [
    "sns.heatmap(data.corr(), cmap='Blues', annot=True)"
   ]
  },
  {
   "cell_type": "markdown",
   "metadata": {},
   "source": [
    "Here we use the select k-best function to rank the features. Calculated square feet has the highest score. "
   ]
  },
  {
   "cell_type": "code",
   "execution_count": 19,
   "metadata": {},
   "outputs": [
    {
     "data": {
      "text/plain": [
       "['calculatedfinishedsquarefeet', 'bedroomcnt', 'bathroomcnt']"
      ]
     },
     "execution_count": 19,
     "metadata": {},
     "output_type": "execute_result"
    }
   ],
   "source": [
    "function.select_kbest_freg(X_train_scaled, y_train, k=3)"
   ]
  },
  {
   "cell_type": "markdown",
   "metadata": {},
   "source": [
    "Now we will start testing different models to see which combination of feature performs the best. "
   ]
  },
  {
   "cell_type": "code",
   "execution_count": 20,
   "metadata": {},
   "outputs": [],
   "source": [
    "# Create a dataframe to store the models\n",
    "predictions=pd.DataFrame({'actual':y_train.taxvaluedollarcnt}).reset_index(drop=True)"
   ]
  },
  {
   "cell_type": "code",
   "execution_count": 21,
   "metadata": {},
   "outputs": [],
   "source": [
    "# model 1 using square feet only\n",
    "lm1=LinearRegression()\n",
    "lm1.fit(X_train_scaled[['calculatedfinishedsquarefeet']],y_train)\n",
    "lm1_predictions=lm1.predict(X_train_scaled[['calculatedfinishedsquarefeet']])\n",
    "predictions['lm1']=lm1_predictions"
   ]
  },
  {
   "cell_type": "code",
   "execution_count": 22,
   "metadata": {},
   "outputs": [],
   "source": [
    "# model 2 using square feet and bedroom count\n",
    "lm2=LinearRegression()\n",
    "lm2.fit(X_train_scaled[['calculatedfinishedsquarefeet', 'bedroomcnt']],y_train)\n",
    "lm2_predictions=lm2.predict(X_train_scaled[['calculatedfinishedsquarefeet', 'bedroomcnt']])\n",
    "predictions['lm2']=lm2_predictions"
   ]
  },
  {
   "cell_type": "code",
   "execution_count": 23,
   "metadata": {},
   "outputs": [],
   "source": [
    "# model 3 using all three variables\n",
    "lm3=LinearRegression()\n",
    "lm3.fit(X_train_scaled[['calculatedfinishedsquarefeet', 'bedroomcnt', 'bathroomcnt']],y_train)\n",
    "lm3_predictions=lm3.predict(X_train_scaled[['calculatedfinishedsquarefeet', 'bedroomcnt', 'bathroomcnt']])\n",
    "predictions['lm3']=lm3_predictions"
   ]
  },
  {
   "cell_type": "code",
   "execution_count": 24,
   "metadata": {},
   "outputs": [],
   "source": [
    "# model 4 using square feet and bathroom count\n",
    "lm4=LinearRegression()\n",
    "lm4.fit(X_train_scaled[['calculatedfinishedsquarefeet', 'bathroomcnt']],y_train)\n",
    "lm4_predictions=lm4.predict(X_train_scaled[['calculatedfinishedsquarefeet', 'bathroomcnt']])\n",
    "predictions['lm4']=lm4_predictions"
   ]
  },
  {
   "cell_type": "code",
   "execution_count": 25,
   "metadata": {},
   "outputs": [],
   "source": [
    "# model 5 using bedroom count and bathroom count\n",
    "lm5=LinearRegression()\n",
    "lm5.fit(X_train_scaled[['bedroomcnt', 'bathroomcnt']],y_train)\n",
    "lm5_predictions=lm5.predict(X_train_scaled[['bedroomcnt', 'bathroomcnt']])\n",
    "predictions['lm5']=lm5_predictions"
   ]
  },
  {
   "cell_type": "code",
   "execution_count": 26,
   "metadata": {},
   "outputs": [],
   "source": [
    "# model 6 using bedroom only\n",
    "lm6=LinearRegression()\n",
    "lm6.fit(X_train_scaled[['bedroomcnt']],y_train)\n",
    "lm6_predictions=lm6.predict(X_train_scaled[['bedroomcnt']])\n",
    "predictions['lm6']=lm6_predictions"
   ]
  },
  {
   "cell_type": "code",
   "execution_count": 27,
   "metadata": {},
   "outputs": [],
   "source": [
    "# model 7 using bathroom only\n",
    "lm7=LinearRegression()\n",
    "lm7.fit(X_train_scaled[['bathroomcnt']],y_train)\n",
    "lm7_predictions=lm7.predict(X_train_scaled[['bathroomcnt']])\n",
    "predictions['lm7']=lm7_predictions"
   ]
  },
  {
   "cell_type": "code",
   "execution_count": 28,
   "metadata": {
    "scrolled": true
   },
   "outputs": [
    {
     "data": {
      "text/html": [
       "<div>\n",
       "<style scoped>\n",
       "    .dataframe tbody tr th:only-of-type {\n",
       "        vertical-align: middle;\n",
       "    }\n",
       "\n",
       "    .dataframe tbody tr th {\n",
       "        vertical-align: top;\n",
       "    }\n",
       "\n",
       "    .dataframe thead th {\n",
       "        text-align: right;\n",
       "    }\n",
       "</style>\n",
       "<table border=\"1\" class=\"dataframe\">\n",
       "  <thead>\n",
       "    <tr style=\"text-align: right;\">\n",
       "      <th></th>\n",
       "      <th>actual</th>\n",
       "      <th>lm1</th>\n",
       "      <th>lm2</th>\n",
       "      <th>lm3</th>\n",
       "      <th>lm4</th>\n",
       "      <th>lm5</th>\n",
       "      <th>lm6</th>\n",
       "      <th>lm7</th>\n",
       "    </tr>\n",
       "  </thead>\n",
       "  <tbody>\n",
       "    <tr>\n",
       "      <th>0</th>\n",
       "      <td>438000.0</td>\n",
       "      <td>244151.497282</td>\n",
       "      <td>237318.921663</td>\n",
       "      <td>247979.567224</td>\n",
       "      <td>239887.987805</td>\n",
       "      <td>401939.064235</td>\n",
       "      <td>414562.955570</td>\n",
       "      <td>390223.348490</td>\n",
       "    </tr>\n",
       "    <tr>\n",
       "      <th>1</th>\n",
       "      <td>1114725.0</td>\n",
       "      <td>815820.929717</td>\n",
       "      <td>781328.532488</td>\n",
       "      <td>781779.592275</td>\n",
       "      <td>814560.926244</td>\n",
       "      <td>712844.024927</td>\n",
       "      <td>608449.433362</td>\n",
       "      <td>737122.649078</td>\n",
       "    </tr>\n",
       "    <tr>\n",
       "      <th>2</th>\n",
       "      <td>156815.0</td>\n",
       "      <td>278158.940928</td>\n",
       "      <td>277766.532302</td>\n",
       "      <td>237964.275409</td>\n",
       "      <td>293259.454230</td>\n",
       "      <td>-2832.441956</td>\n",
       "      <td>414562.955570</td>\n",
       "      <td>43324.047902</td>\n",
       "    </tr>\n",
       "    <tr>\n",
       "      <th>3</th>\n",
       "      <td>54630.0</td>\n",
       "      <td>122757.837684</td>\n",
       "      <td>228856.155501</td>\n",
       "      <td>213020.905515</td>\n",
       "      <td>132119.418583</td>\n",
       "      <td>91034.103543</td>\n",
       "      <td>220676.477777</td>\n",
       "      <td>43324.047902</td>\n",
       "    </tr>\n",
       "    <tr>\n",
       "      <th>4</th>\n",
       "      <td>86974.0</td>\n",
       "      <td>-157480.716921</td>\n",
       "      <td>31467.208000</td>\n",
       "      <td>49775.436799</td>\n",
       "      <td>-158468.291130</td>\n",
       "      <td>184900.649042</td>\n",
       "      <td>26789.999985</td>\n",
       "      <td>43324.047902</td>\n",
       "    </tr>\n",
       "  </tbody>\n",
       "</table>\n",
       "</div>"
      ],
      "text/plain": [
       "      actual            lm1            lm2            lm3            lm4  \\\n",
       "0   438000.0  244151.497282  237318.921663  247979.567224  239887.987805   \n",
       "1  1114725.0  815820.929717  781328.532488  781779.592275  814560.926244   \n",
       "2   156815.0  278158.940928  277766.532302  237964.275409  293259.454230   \n",
       "3    54630.0  122757.837684  228856.155501  213020.905515  132119.418583   \n",
       "4    86974.0 -157480.716921   31467.208000   49775.436799 -158468.291130   \n",
       "\n",
       "             lm5            lm6            lm7  \n",
       "0  401939.064235  414562.955570  390223.348490  \n",
       "1  712844.024927  608449.433362  737122.649078  \n",
       "2   -2832.441956  414562.955570   43324.047902  \n",
       "3   91034.103543  220676.477777   43324.047902  \n",
       "4  184900.649042   26789.999985   43324.047902  "
      ]
     },
     "execution_count": 28,
     "metadata": {},
     "output_type": "execute_result"
    }
   ],
   "source": [
    "predictions.head()"
   ]
  },
  {
   "cell_type": "markdown",
   "metadata": {},
   "source": [
    "# Evaluate and Model"
   ]
  },
  {
   "cell_type": "markdown",
   "metadata": {},
   "source": [
    "Now let's evaluate these models to see which performs the best. We evaluate the models by comparing their Mean Square Errors, Sum of Square Errors, Root Mean Square Error, and R-squared score."
   ]
  },
  {
   "cell_type": "code",
   "execution_count": 29,
   "metadata": {},
   "outputs": [
    {
     "name": "stdout",
     "output_type": "stream",
     "text": [
      "256762749454.66782 3291184922509932.0 506717.6229959521 0.41613255549012607\n"
     ]
    }
   ],
   "source": [
    "MSE_1 = mean_squared_error(predictions.actual, predictions.lm1)\n",
    "SSE_1 = MSE_1*len(predictions.actual)\n",
    "RMSE_1 = sqrt(MSE_1)\n",
    "r2_1 = r2_score(predictions.actual, predictions.lm1)\n",
    "print(MSE_1,SSE_1,RMSE_1,r2_1)"
   ]
  },
  {
   "cell_type": "code",
   "execution_count": 30,
   "metadata": {},
   "outputs": [
    {
     "name": "stdout",
     "output_type": "stream",
     "text": [
      "246338700230.99075 3157569459560839.5 496325.19604689704 0.4398363949084214\n"
     ]
    }
   ],
   "source": [
    "MSE_2 = mean_squared_error(predictions.actual, predictions.lm2)\n",
    "SSE_2 = MSE_2*len(predictions.actual)\n",
    "RMSE_2 = sqrt(MSE_2)\n",
    "r2_2 = r2_score(predictions.actual, predictions.lm2)\n",
    "print(MSE_2,SSE_2,RMSE_2,r2_2)"
   ]
  },
  {
   "cell_type": "code",
   "execution_count": 31,
   "metadata": {},
   "outputs": [
    {
     "name": "stdout",
     "output_type": "stream",
     "text": [
      "245730450631.4941 3149772916194491.5 495712.0642383985 0.4412195283264757\n"
     ]
    }
   ],
   "source": [
    "MSE_3 = mean_squared_error(predictions.actual, predictions.lm3)\n",
    "SSE_3 = MSE_3*len(predictions.actual)\n",
    "RMSE_3 = sqrt(MSE_3)\n",
    "r2_3 = r2_score(predictions.actual, predictions.lm3)\n",
    "print(MSE_3,SSE_3,RMSE_3,r2_3)"
   ]
  },
  {
   "cell_type": "code",
   "execution_count": 32,
   "metadata": {},
   "outputs": [
    {
     "name": "stdout",
     "output_type": "stream",
     "text": [
      "256664671357.7786 3289927757464006.0 506620.83588989766 0.4163555808624385\n"
     ]
    }
   ],
   "source": [
    "MSE_4 = mean_squared_error(predictions.actual, predictions.lm4)\n",
    "SSE_4 = MSE_4*len(predictions.actual)\n",
    "RMSE_4 = sqrt(MSE_4)\n",
    "r2_4 = r2_score(predictions.actual, predictions.lm4)\n",
    "print(MSE_4,SSE_4,RMSE_4,r2_4)"
   ]
  },
  {
   "cell_type": "code",
   "execution_count": 33,
   "metadata": {},
   "outputs": [
    {
     "name": "stdout",
     "output_type": "stream",
     "text": [
      "307624125148.90826 3943126036158706.0 554638.733906052 0.3004759755776424\n"
     ]
    }
   ],
   "source": [
    "MSE_5 = mean_squared_error(predictions.actual, predictions.lm5)\n",
    "SSE_5 = MSE_5*len(predictions.actual)\n",
    "RMSE_5 = sqrt(MSE_5)\n",
    "r2_5 = r2_score(predictions.actual, predictions.lm5)\n",
    "print(MSE_5,SSE_5,RMSE_5,r2_5)"
   ]
  },
  {
   "cell_type": "code",
   "execution_count": 34,
   "metadata": {},
   "outputs": [
    {
     "name": "stdout",
     "output_type": "stream",
     "text": [
      "405196412940.0437 5193807621065480.0 636550.4009424892 0.07860079139073095\n"
     ]
    }
   ],
   "source": [
    "MSE_6 = mean_squared_error(predictions.actual, predictions.lm6)\n",
    "SSE_6 = MSE_6*len(predictions.actual)\n",
    "RMSE_6 = sqrt(MSE_6)\n",
    "r2_6 = r2_score(predictions.actual, predictions.lm6)\n",
    "print(MSE_6,SSE_6,RMSE_6,r2_6)"
   ]
  },
  {
   "cell_type": "code",
   "execution_count": 46,
   "metadata": {},
   "outputs": [
    {
     "name": "stdout",
     "output_type": "stream",
     "text": [
      "312174818059.2801 4001456817883852.0 558726.0671020102 0.29012789570246134\n"
     ]
    }
   ],
   "source": [
    "MSE_7 = mean_squared_error(predictions.actual, predictions.lm7)\n",
    "SSE_7 = MSE_7*len(predictions.actual)\n",
    "RMSE_7 = sqrt(MSE_7)\n",
    "r2_7 = r2_score(predictions.actual, predictions.lm7)\n",
    "print(MSE_7,SSE_7,RMSE_7,r2_7)"
   ]
  },
  {
   "cell_type": "markdown",
   "metadata": {},
   "source": [
    "#### Model 3 performs the best overall. This model includes all three features: finished square footage, bedroom count, and bathroom count. Below is the equation for our model along with the y-intercept and coefficients."
   ]
  },
  {
   "cell_type": "code",
   "execution_count": 49,
   "metadata": {},
   "outputs": [
    {
     "name": "stdout",
     "output_type": "stream",
     "text": [
      "intercept:  [464282.4790919]\n",
      "coefficents:  [[ 473923.89101277 -141168.68822361   49105.91579902]]\n",
      "taxvaluedollarcnt= b+ m1*calculatedfinishedsquarefeet + m2*bedroomcnt + m3*bathroomcnt\n"
     ]
    }
   ],
   "source": [
    "lm3_y_intercept=lm3.intercept_\n",
    "print(\"intercept: \",lm3_y_intercept)\n",
    "lm3_coefficients=lm3.coef_\n",
    "print(\"coefficents: \",lm3_coefficients)\n",
    "print('{}= b+ m1*{} + m2*{} + m3*{}'.format(y_train.columns[0],X_train.columns[0],X_train.columns[1],X_train.columns[2]))\n"
   ]
  },
  {
   "cell_type": "markdown",
   "metadata": {},
   "source": [
    "### Apply to test data"
   ]
  },
  {
   "cell_type": "code",
   "execution_count": 50,
   "metadata": {},
   "outputs": [
    {
     "data": {
      "text/html": [
       "<div>\n",
       "<style scoped>\n",
       "    .dataframe tbody tr th:only-of-type {\n",
       "        vertical-align: middle;\n",
       "    }\n",
       "\n",
       "    .dataframe tbody tr th {\n",
       "        vertical-align: top;\n",
       "    }\n",
       "\n",
       "    .dataframe thead th {\n",
       "        text-align: right;\n",
       "    }\n",
       "</style>\n",
       "<table border=\"1\" class=\"dataframe\">\n",
       "  <thead>\n",
       "    <tr style=\"text-align: right;\">\n",
       "      <th></th>\n",
       "      <th>predictions</th>\n",
       "      <th>taxvaluedollarcnt</th>\n",
       "    </tr>\n",
       "  </thead>\n",
       "  <tbody>\n",
       "    <tr>\n",
       "      <th>0</th>\n",
       "      <td>1.683714e+09</td>\n",
       "      <td>886360.0</td>\n",
       "    </tr>\n",
       "    <tr>\n",
       "      <th>1</th>\n",
       "      <td>4.839662e+08</td>\n",
       "      <td>101445.0</td>\n",
       "    </tr>\n",
       "    <tr>\n",
       "      <th>2</th>\n",
       "      <td>7.791287e+08</td>\n",
       "      <td>471021.0</td>\n",
       "    </tr>\n",
       "    <tr>\n",
       "      <th>3</th>\n",
       "      <td>5.147712e+08</td>\n",
       "      <td>44435.0</td>\n",
       "    </tr>\n",
       "    <tr>\n",
       "      <th>4</th>\n",
       "      <td>6.767611e+08</td>\n",
       "      <td>332569.0</td>\n",
       "    </tr>\n",
       "  </tbody>\n",
       "</table>\n",
       "</div>"
      ],
      "text/plain": [
       "    predictions  taxvaluedollarcnt\n",
       "0  1.683714e+09           886360.0\n",
       "1  4.839662e+08           101445.0\n",
       "2  7.791287e+08           471021.0\n",
       "3  5.147712e+08            44435.0\n",
       "4  6.767611e+08           332569.0"
      ]
     },
     "execution_count": 50,
     "metadata": {},
     "output_type": "execute_result"
    }
   ],
   "source": [
    "mvp_model=lm3.predict(X_test[['calculatedfinishedsquarefeet', 'bedroomcnt', 'bathroomcnt']])\n",
    "mvp_model=mvp_model.ravel().reshape(3205)\n",
    "y_test1=np.array(y_test).ravel().reshape(3205)\n",
    "best_model=pd.DataFrame({'predictions':mvp_model,'taxvaluedollarcnt':y_test1})\n",
    "best_model.head()"
   ]
  },
  {
   "cell_type": "markdown",
   "metadata": {},
   "source": [
    "#### Now we plot the residuals to make sure they are as close to zero as possible."
   ]
  },
  {
   "cell_type": "code",
   "execution_count": 51,
   "metadata": {},
   "outputs": [
    {
     "data": {
      "text/plain": [
       "<matplotlib.axes._subplots.AxesSubplot at 0x1a21028ef0>"
      ]
     },
     "execution_count": 51,
     "metadata": {},
     "output_type": "execute_result"
    },
    {
     "data": {
      "image/png": "[encoded data removed]",
      "text/plain": [
       "<Figure size 432x288 with 1 Axes>"
      ]
     },
     "metadata": {
      "needs_background": "light"
     },
     "output_type": "display_data"
    }
   ],
   "source": [
    "sns.residplot(mvp_model, y_test)"
   ]
  },
  {
   "cell_type": "code",
   "execution_count": null,
   "metadata": {},
   "outputs": [],
   "source": []
  },
  {
   "cell_type": "code",
   "execution_count": 52,
   "metadata": {},
   "outputs": [],
   "source": []
  },
  {
   "cell_type": "code",
   "execution_count": null,
   "metadata": {},
   "outputs": [],
   "source": []
  },
  {
   "cell_type": "code",
   "execution_count": null,
   "metadata": {},
   "outputs": [],
   "source": []
  },
  {
   "cell_type": "code",
   "execution_count": null,
   "metadata": {},
   "outputs": [],
   "source": []
  },
  {
   "cell_type": "code",
   "execution_count": null,
   "metadata": {},
   "outputs": [],
   "source": []
  }
 ],
 "metadata": {
  "kernelspec": {
   "display_name": "Python 3",
   "language": "python",
   "name": "python3"
  },
  "language_info": {
   "codemirror_mode": {
    "name": "ipython",
    "version": 3
   },
   "file_extension": ".py",
   "mimetype": "text/x-python",
   "name": "python",
   "nbconvert_exporter": "python",
   "pygments_lexer": "ipython3",
   "version": "3.7.3"
  }
 },
 "nbformat": 4,
 "nbformat_minor": 2
}
